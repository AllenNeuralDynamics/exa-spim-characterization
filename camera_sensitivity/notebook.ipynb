{
 "cells": [
  {
   "cell_type": "code",
   "execution_count": 3,
   "id": "f5d62f4c",
   "metadata": {},
   "outputs": [],
   "source": [
    "import numpy\n",
    "import tifffile\n",
    "import matplotlib\n",
    "import matplotlib.pyplot as plt\n",
    "from matplotlib.ticker import (MultipleLocator, FormatStrFormatter,\n",
    "                               AutoMinorLocator)\n",
    "from matplotlib.markers import MarkerStyle"
   ]
  },
  {
   "cell_type": "code",
   "execution_count": 5,
   "id": "5f77f1ae",
   "metadata": {},
   "outputs": [],
   "source": [
    "path = '.\\\\'\n",
    "threshold = 300 # counts\n",
    "filenames=['cmos_45.44us.tiff',\n",
    "          'cmos_20.21us.tiff',\n",
    "          'cmos_15.00us.tiff']\n",
    "\n",
    "snr_cmos = numpy.zeros(len(filenames))\n",
    "signal_cmos = numpy.zeros(len(filenames))\n",
    "background_cmos = numpy.zeros(len(filenames))\n",
    "noise_cmos = numpy.zeros(len(filenames))\n",
    "\n",
    "for index in range(0,len(filenames)):\n",
    "    roi = tifffile.imread(filenames[index])\n",
    "    roi = roi.flatten()\n",
    "    roi = roi\n",
    "    if index == 0:\n",
    "        signal_idx = numpy.argwhere(roi>threshold)\n",
    "        background_idx = numpy.argwhere(roi<=threshold)\n",
    "    signal_cmos[index] = numpy.percentile(roi[signal_idx],90)\n",
    "    background_cmos[index] = numpy.mean(roi[background_idx])\n",
    "    noise_cmos[index] = numpy.sqrt(numpy.mean(roi[background_idx]))\n",
    "    snr_cmos[index] = (signal_cmos[index]-background_cmos[index])/noise_cmos[index]"
   ]
  },
  {
   "cell_type": "code",
   "execution_count": 7,
   "id": "81000046",
   "metadata": {},
   "outputs": [],
   "source": [
    "path = '.\\\\'\n",
    "threshold = 300 # counts\n",
    "filenames=['scmos_78.00us.tiff',\n",
    "          'scmos_39.00us.tiff',\n",
    "          'scmos_19.50us.tiff',\n",
    "          'scmos_9.75us.tiff',\n",
    "          'scmos_4.88us.tiff']\n",
    "\n",
    "snr_scmos = numpy.zeros(len(filenames))\n",
    "signal_scmos = numpy.zeros(len(filenames))\n",
    "background_scmos = numpy.zeros(len(filenames))\n",
    "noise_scmos = numpy.zeros(len(filenames))\n",
    "\n",
    "for index in range(0,len(filenames)):\n",
    "    roi = tifffile.imread(filenames[index])\n",
    "    roi = roi.flatten()\n",
    "    roi = numpy.clip(roi, 100, 2**16)-100 # correct for offset\n",
    "    if index == 0:\n",
    "        signal_idx = numpy.argwhere(roi>threshold)\n",
    "        background_idx = numpy.argwhere(roi<=threshold)\n",
    "    signal_scmos[index] = numpy.percentile(roi[signal_idx],90)\n",
    "    background_scmos[index] = numpy.mean(roi[background_idx])\n",
    "    noise_scmos[index] = numpy.sqrt(numpy.mean(roi[background_idx]))\n",
    "    snr_scmos[index] = ((signal_scmos[index]-background_scmos[index]))/noise_scmos[index]"
   ]
  },
  {
   "cell_type": "code",
   "execution_count": 8,
   "id": "3f7ccc33",
   "metadata": {},
   "outputs": [
    {
     "data": {
      "image/png": "[encoded data removed]",
      "text/plain": [
       "<Figure size 172.8x57.6 with 1 Axes>"
      ]
     },
     "metadata": {
      "needs_background": "light"
     },
     "output_type": "display_data"
    }
   ],
   "source": [
    "plt.rcParams['font.size'] = 10\n",
    "plt.rcParams['font.family'] = 'Arial'\n",
    "plt.rcParams['font.weight'] = 'light'\n",
    "plt.rcParams[\"figure.figsize\"] = [2.4, 0.8]\n",
    "plt.rcParams['hatch.linewidth'] = 3\n",
    "plt.rcParams['lines.markersize'] = 6\n",
    "plt.rcParams['lines.linewidth'] = 0.5\n",
    "\n",
    "ax = plt.axes()\n",
    "pixelrate_cmos = numpy.array((14192/45.44*1e6, 14192/20.21*1e6, 14192/15*1e6)) # pixels/linetime[us]\n",
    "plt.plot(pixelrate_cmos/1e6, snr_cmos/snr_cmos[1], c='mediumseagreen', marker='.', lw=1, ms=4)\n",
    "pixelrate_scmos = numpy.array((2048/78*1e6, 2048/39*1e6, 2048/19.5*1e6, 2048/9.75*1e6, 2048/4.88*1e6)) # pixels/linetime[us]\n",
    "plt.plot(pixelrate_scmos/1e6, snr_scmos/snr_cmos[1], c='tomato', marker='.', lw=1, ms=4)\n",
    "plt.plot([0, 1000e6], [1, 1], c='gray', ls='dashed', lw=0.75)\n",
    "plt.axis([0, 1000, -1, 10])\n",
    "ax.set_ylabel('rSNR')\n",
    "ax.set_xlabel('Imaging speed, gigavoxels/sec')\n",
    "ax.set_xticks(numpy.arange(0, 1200, step = 200))\n",
    "ax.set_yticks([0, 4, 8])\n",
    "ax.xaxis.set_minor_locator(AutoMinorLocator())\n",
    "ax.yaxis.set_minor_locator(AutoMinorLocator())\n",
    "ax.tick_params(which = 'major', direction='out', length=8, width=0.5)\n",
    "ax.tick_params(which = 'minor', length=4, width=0.5)\n",
    "\n",
    "for axis in ['top','bottom','left','right']:\n",
    "    ax.spines[axis].set_linewidth(0.5)\n",
    "\n",
    "plt.savefig('figure.pdf', bbox_inches='tight')"
   ]
  },
  {
   "cell_type": "code",
   "execution_count": null,
   "id": "86c1172a",
   "metadata": {},
   "outputs": [],
   "source": []
  }
 ],
 "metadata": {
  "kernelspec": {
   "display_name": "Python 3 (ipykernel)",
   "language": "python",
   "name": "python3"
  },
  "language_info": {
   "codemirror_mode": {
    "name": "ipython",
    "version": 3
   },
   "file_extension": ".py",
   "mimetype": "text/x-python",
   "name": "python",
   "nbconvert_exporter": "python",
   "pygments_lexer": "ipython3",
   "version": "3.9.7"
  }
 },
 "nbformat": 4,
 "nbformat_minor": 5
}
